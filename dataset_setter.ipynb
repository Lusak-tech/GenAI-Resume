{
 "cells": [
  {
   "metadata": {},
   "cell_type": "markdown",
   "source": "Load Real Resumes",
   "id": "e6733a4f068fcdf"
  },
  {
   "cell_type": "code",
   "id": "initial_id",
   "metadata": {
    "collapsed": true,
    "ExecuteTime": {
     "end_time": "2024-12-26T11:20:49.267123Z",
     "start_time": "2024-12-26T11:20:49.253482Z"
    }
   },
   "source": [
    "import json\n",
    "import os\n",
    "\n",
    "def extract_text_recursive(data):\n",
    "    \"\"\"\n",
    "    Recursively extract text from a dictionary or list.\n",
    "    Flatten nested structures and combine all string values.\n",
    "    \"\"\"\n",
    "    if isinstance(data, dict):\n",
    "        return \" \".join(extract_text_recursive(value) for value in data.values())\n",
    "    elif isinstance(data, list):\n",
    "        return \" \".join(extract_text_recursive(item) for item in data)\n",
    "    elif isinstance(data, str):\n",
    "        return data\n",
    "    else:\n",
    "        # If data is neither a dict, list, nor string (e.g., number, None), convert it to a string\n",
    "        return str(data)\n",
    "\n",
    "def load_real_resumes_from_json(folder_path):\n",
    "    real_resumes = []\n",
    "    for file_name in os.listdir(folder_path):\n",
    "        if file_name.endswith(\".json\"):  # Ensure we're only processing JSON files\n",
    "            file_path = os.path.join(folder_path, file_name)\n",
    "            with open(file_path, \"r\", encoding=\"utf-8\") as file:\n",
    "                try:\n",
    "                    data = json.load(file)\n",
    "                    # Combine all key values as a single text field\n",
    "                    resume_text = extract_text_recursive(data)\n",
    "                    real_resumes.append({\"text\": resume_text, \"label\": 0})  # Label 0 for human-written\n",
    "                except json.JSONDecodeError:\n",
    "                    print(f\"Error decoding JSON in file {file_path}. Skipping this file.\")\n",
    "    return real_resumes\n",
    "\n",
    "# Load real resumes\n",
    "real_resumes = load_real_resumes_from_json(\"D:/Lusak.tech/Dataset\")\n",
    "print(f\"Loaded {len(real_resumes)} real resumes.\")"
   ],
   "outputs": [
    {
     "name": "stdout",
     "output_type": "stream",
     "text": [
      "Loaded 26 real resumes.\n"
     ]
    }
   ],
   "execution_count": 3
  },
  {
   "metadata": {},
   "cell_type": "markdown",
   "source": "Load Fake Resumes",
   "id": "7ddaa3cf3d854f61"
  },
  {
   "metadata": {
    "ExecuteTime": {
     "end_time": "2024-12-26T11:22:24.045108Z",
     "start_time": "2024-12-26T11:22:23.969201Z"
    }
   },
   "cell_type": "code",
   "source": [
    "import os\n",
    "import json\n",
    "\n",
    "\n",
    "def extract_text_from_dict(data):\n",
    "    \"\"\" Recursively extract all strings from a dictionary. \"\"\"\n",
    "    texts = []\n",
    "    if isinstance(data, dict):\n",
    "        for value in data.values():\n",
    "            texts.extend(extract_text_from_dict(value))  # Recursive call for nested dictionaries\n",
    "    elif isinstance(data, list):\n",
    "        for item in data:\n",
    "            texts.extend(extract_text_from_dict(item))  # Recursive call for lists\n",
    "    elif isinstance(data, str):\n",
    "        texts.append(data)  # Append string values only\n",
    "    return texts\n",
    "\n",
    "\n",
    "def load_fake_resumes_from_json(folder_path):\n",
    "    fake_resumes = []\n",
    "    for filename in os.listdir(folder_path):\n",
    "        if filename.endswith(\".json\"):  # Process JSON files only\n",
    "            file_path = os.path.join(folder_path, filename)\n",
    "            with open(file_path, \"r\", encoding=\"utf-8\") as file:\n",
    "                data = json.load(file)\n",
    "                # Extract all text content from the JSON structure\n",
    "                resume_text = \" \".join(extract_text_from_dict(data))\n",
    "                fake_resumes.append({\"text\": resume_text, \"label\": 1})  # Label 1 for AI-generated\n",
    "    return fake_resumes\n",
    "\n",
    "\n",
    "# Load fake resumes\n",
    "fake_resumes = load_fake_resumes_from_json(\"D:/Lusak.tech/jsonresume-fake-master/jsonresume-fake-master/resumes\")\n",
    "print(f\"Loaded {len(fake_resumes)} fake resumes.\")\n"
   ],
   "id": "a64c8719a8c5d7",
   "outputs": [
    {
     "name": "stdout",
     "output_type": "stream",
     "text": [
      "Loaded 339 fake resumes.\n"
     ]
    }
   ],
   "execution_count": 6
  },
  {
   "metadata": {},
   "cell_type": "markdown",
   "source": "Combine Datasets",
   "id": "e36360c26161cca6"
  },
  {
   "metadata": {
    "ExecuteTime": {
     "end_time": "2024-12-26T11:22:35.430804Z",
     "start_time": "2024-12-26T11:22:35.424081Z"
    }
   },
   "cell_type": "code",
   "source": [
    "combined_resumes = real_resumes + fake_resumes\n",
    "print(f\"Total resumes: {len(combined_resumes)}\")\n",
    "\n",
    "import random\n",
    "random.shuffle(combined_resumes)"
   ],
   "id": "561577b6c8fd0bd3",
   "outputs": [
    {
     "name": "stdout",
     "output_type": "stream",
     "text": [
      "Total resumes: 365\n"
     ]
    }
   ],
   "execution_count": 8
  },
  {
   "metadata": {},
   "cell_type": "markdown",
   "source": "Save Combined Dataset\n",
   "id": "681f4aa4fafe5232"
  },
  {
   "metadata": {
    "ExecuteTime": {
     "end_time": "2024-12-26T11:22:40.274213Z",
     "start_time": "2024-12-26T11:22:39.861693Z"
    }
   },
   "cell_type": "code",
   "source": [
    "import pandas as pd\n",
    "\n",
    "def save_combined_dataset(resumes: list, output_file: str):\n",
    "    df = pd.DataFrame(resumes)  # Convert to DataFrame\n",
    "    df.to_csv(output_file, index=False, encoding=\"utf-8\")\n",
    "    print(f\"Combined dataset saved to {output_file}\")\n",
    "\n",
    "# Save the dataset\n",
    "save_combined_dataset(combined_resumes, \"combined_resumes.csv\")"
   ],
   "id": "92409eff4db9d40",
   "outputs": [
    {
     "name": "stdout",
     "output_type": "stream",
     "text": [
      "Combined dataset saved to combined_resumes.csv\n"
     ]
    }
   ],
   "execution_count": 9
  }
 ],
 "metadata": {
  "kernelspec": {
   "display_name": "Python 3",
   "language": "python",
   "name": "python3"
  },
  "language_info": {
   "codemirror_mode": {
    "name": "ipython",
    "version": 2
   },
   "file_extension": ".py",
   "mimetype": "text/x-python",
   "name": "python",
   "nbconvert_exporter": "python",
   "pygments_lexer": "ipython2",
   "version": "2.7.6"
  }
 },
 "nbformat": 4,
 "nbformat_minor": 5
}
